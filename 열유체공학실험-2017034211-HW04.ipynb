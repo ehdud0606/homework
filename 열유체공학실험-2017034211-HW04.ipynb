{
  "nbformat": 4,
  "nbformat_minor": 0,
  "metadata": {
    "colab": {
      "name": "Untitled3.ipynb",
      "provenance": [],
      "include_colab_link": true
    },
    "kernelspec": {
      "name": "python3",
      "display_name": "Python 3"
    }
  },
  "cells": [
    {
      "cell_type": "markdown",
      "metadata": {
        "id": "view-in-github",
        "colab_type": "text"
      },
      "source": [
        "<a href=\"https://colab.research.google.com/github/ehdud0606/homework/blob/master/%EC%97%B4%EC%9C%A0%EC%B2%B4%EA%B3%B5%ED%95%99%EC%8B%A4%ED%97%98-2017034211-HW04.ipynb\" target=\"_parent\"><img src=\"https://colab.research.google.com/assets/colab-badge.svg\" alt=\"Open In Colab\"/></a>"
      ]
    },
    {
      "cell_type": "code",
      "metadata": {
        "id": "sBeqp1YLR8EA",
        "colab_type": "code",
        "colab": {
          "base_uri": "https://localhost:8080/",
          "height": 485
        },
        "outputId": "4daaf472-0f92-4074-bdd6-27a2d5e0c2ae"
      },
      "source": [
        "#1\n",
        "a=int(input())\n",
        "def googoodan(n):\n",
        "  for i in range(1,10):\n",
        "    print (n,'X',i,'=',n*i) \n",
        "%timeit googoodan\n",
        "googoodan(a)\n",
        "#2\n",
        "import numpy as np\n",
        "x=np.arange(1,10*n)\n",
        "%timeit x[n-1::n]\n",
        "print(x[n-1::n])\n",
        "#3\n",
        "import numba\n",
        "def googoodan_function(n):\n",
        " for i in range(1,10):\n",
        "   print (n,'X',i,'=',n*i)\n",
        "%timeit googoodan_function_jit = numba.jit(googoodan_function)\n",
        "googoodan_function_jit(a)\n",
        "#4\n",
        "import numpy as np\n",
        "from numba import vectorize\n"
      ],
      "execution_count": 68,
      "outputs": [
        {
          "output_type": "stream",
          "text": [
            "3\n",
            "The slowest run took 48.95 times longer than the fastest. This could mean that an intermediate result is being cached.\n",
            "10000000 loops, best of 3: 22.1 ns per loop\n",
            "3 X 1 = 3\n",
            "3 X 2 = 6\n",
            "3 X 3 = 9\n",
            "3 X 4 = 12\n",
            "3 X 5 = 15\n",
            "3 X 6 = 18\n",
            "3 X 7 = 21\n",
            "3 X 8 = 24\n",
            "3 X 9 = 27\n",
            "The slowest run took 36.46 times longer than the fastest. This could mean that an intermediate result is being cached.\n",
            "1000000 loops, best of 3: 256 ns per loop\n",
            "[ 3  6  9 12 15 18 21 24 27]\n",
            "The slowest run took 5.78 times longer than the fastest. This could mean that an intermediate result is being cached.\n",
            "10000 loops, best of 3: 57.3 µs per loop\n",
            "3 X 1 = 3\n",
            "3 X 2 = 6\n",
            "3 X 3 = 9\n",
            "3 X 4 = 12\n",
            "3 X 5 = 15\n",
            "3 X 6 = 18\n",
            "3 X 7 = 21\n",
            "3 X 8 = 24\n",
            "3 X 9 = 27\n"
          ],
          "name": "stdout"
        }
      ]
    }
  ]
}